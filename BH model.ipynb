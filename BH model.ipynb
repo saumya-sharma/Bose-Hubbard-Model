{
 "cells": [
  {
   "cell_type": "markdown",
   "metadata": {},
   "source": [
    "\n",
    "\n",
    "The Bose-Hubbard Hamiltonian is given by:\n",
    "\n",
    "$$\n",
    "\\hat{H} = -\\mu \\hat{n} + \\frac{1}{2} \\left( \\hat{n} \\cdot (\\hat{n} - \\mathbb{I}) \\right) - t z \\psi (\\hat{a} + \\hat{a}^\\dagger) + t z \\psi^2 \\mathbb{I}\n",
    "$$\n",
    "\n",
    "Where:\n",
    "- $\\mu$ is the chemical potential,\n",
    "- $\\hat{n}$ is the number operator,\n",
    "- $\\mathbb{I}$ is the identity operator,\n",
    "- $\\hat{a}$ and $\\hat{a}^\\dagger$ are the annihilation and creation operators, respectively,\n",
    "- $t$ is the hopping parameter, and\n",
    "- $z$ is the lattice coordination number.\n",
    "\n",
    "To solve the Bose-Hubbard model, we will use the mean field approximation, where we treat the annihilation operator \\(\\hat{a}\\) and the creation operator $\\hat{a}^\\dagger$ as c-numbers $\\alpha$ and $\\alpha^*$ respectively.\n",
    "\n",
    "## Implementation\n",
    "\n",
    "We will use libraries like NumPy, SciPy, and Matplotlib to implement the mean field solution for the Bose-Hubbard model. Here's a explanation of the code:\n",
    "\n",
    "1. **Create Local Operators**: We first define a function `create_local_operator(n_max)` to generate the local operators $\\hat{a}$, $\\hat{a}^\\dagger$, $\\hat{n}$, and $\\mathbb{I}$ for a lattice with a maximum number of bosons $n_{\\text{max}}$. For example, with $n_{\\text{max}} = 3$, the matrices for the operators are:\n",
    "\n",
    "$$\n",
    "\\hat{a} = \\begin{bmatrix} 0 & \\sqrt{1} & 0 \\\\ 0 & 0 & \\sqrt{2} \\\\ 0 & 0 & 0 \\end{bmatrix}, \\quad\n",
    "\\hat{a}^\\dagger = \\begin{bmatrix} 0 & 0 & 0 \\\\ \\sqrt{1} & 0 & 0 \\\\ 0 & \\sqrt{2} & 0 \\end{bmatrix}, \\quad\n",
    "\\hat{n} = \\begin{bmatrix} 0 & 0 & 0 \\\\ 0 & 1 & 0 \\\\ 0 & 0 & 2 \\end{bmatrix}, \\quad\n",
    "\\mathbb{I} = \\begin{bmatrix} 1 & 0 & 0 \\\\ 0 & 1 & 0 \\\\ 0 & 0 & 1 \\end{bmatrix}\n",
    "$$\n",
    "\n",
    "2. **Hamiltonian**: We define a function `ham(t, mu, z, psi, n_max)` to calculate the Hamiltonian of the system using the local operators. The Hamiltonian describes the energy of the system based on the parameters $t$, $\\mu$, $z$, and the variational parameter $\\psi$.\n",
    "\n",
    "3. **Eigenvalues and Eigenvectors**: Next, we define a function `eig_val_vec(t, mu, z, psi, n_max)` to find the lowest eigenvalue of the Hamiltonian using the NumPy `linalg.eigh` function. The lowest eigenvalue corresponds to the ground state energy of the system.\n",
    "\n",
    "4. **Optimization**: We define a function `find_psi(t, mu, z, n_max)` to find the optimal value of \\(\\psi\\) that minimizes the ground state energy. The optimization is performed using the `minimize_scalar` function from the SciPy library.\n",
    "\n",
    "5. **Visualization**: Finally, we sweep through the values of \\(t/U\\) and \\(\\mu/U\\) for specified ranges, find the optimal \\(\\psi\\) for each combination, and visualize the results as a heatmap using Matplotlib. The color in the heatmap represents the optimal value of \\(\\psi\\) for different \\(t/U\\) and \\(\\mu/U\\) values.\n",
    "\n",
    "## Conclusion\n",
    "\n",
    "By implementing the mean field solution for the Bose-Hubbard model, we gain insights into the ground state properties of the system under different conditions. This approach allows us to understand the behavior of bosonic particles on a lattice and explore phenomena such as Bose-Einstein condensation and superfluidity."
   ]
  },
  {
   "cell_type": "code",
   "execution_count": 2,
   "metadata": {},
   "outputs": [],
   "source": [
    "# Import necessary libraries\n",
    "\n",
    "import numpy as np\n",
    "import matplotlib.pyplot as plt\n",
    "from scipy.optimize import minimize_scalar\n",
    "from tqdm import tqdm\n",
    "\n",
    "\n",
    "# Define a function to create local operators for the Bose-Hubbard model\n",
    "\n",
    "def create_local_operator(n_max):\n",
    "    # Creation operator 'a'\n",
    "    a = np.diag(np.sqrt(np.arange(1, n_max+1)), 1)\n",
    "    \n",
    "    # Annihilation operator 'a_dag'\n",
    "    a_dag = a.T\n",
    "    \n",
    "    # Number operator 'n'\n",
    "    n = np.dot(a_dag, a)\n",
    "    \n",
    "    # Identity operator 'I'\n",
    "    I = np.identity(n_max+1)\n",
    "    \n",
    "    return a, a_dag, n, I\n",
    "\n",
    "# a, a_dag, n, I = create_local_operator(3)\n",
    "# print(a)\n",
    "# print(a_dag)\n",
    "# print(n)\n",
    "# print(I)"
   ]
  },
  {
   "cell_type": "code",
   "execution_count": 5,
   "metadata": {},
   "outputs": [
    {
     "name": "stderr",
     "output_type": "stream",
     "text": [
      "100%|████████████████████████████████████████████████████████████████████████████████| 500/500 [09:47<00:00,  1.17s/it]\n"
     ]
    },
    {
     "data": {
      "image/png": "[encoded data removed]",
      "text/plain": [
       "<Figure size 432x288 with 2 Axes>"
      ]
     },
     "metadata": {
      "needs_background": "light"
     },
     "output_type": "display_data"
    }
   ],
   "source": [
    "# Define the Hamiltonian of the Bose-Hubbard model\n",
    "\n",
    "def ham(t, mu, z, psi, n_max):\n",
    "    a, a_dag, n, I = create_local_operator(n_max)\n",
    "     # Hamiltonian of the system\n",
    "    ham = -mu * n + 0.5 * (n.dot(n - I)) - t * z * psi * (a + a_dag) + t * z * psi ** 2 * I\n",
    "    return ham\n",
    "\n",
    "\n",
    "# Define a function to calculate the lowest eigenvalue of the Hamiltonian\n",
    "def eig_val_vec(t, mu, z, psi, n_max):\n",
    "    H = ham(t, mu, z, psi, n_max)\n",
    "    # Calculate the eigenvalues and eigenvectors of the Hamiltonian\n",
    "    E, psi = np.linalg.eigh(H)\n",
    "    return E[0]\n",
    "\n",
    "\n",
    "# Define a function to find the optimal value of psi that minimizes the eigenvalue\n",
    "def find_psi(t, mu, z, n_max):\n",
    "    def e_min(psi):\n",
    "        return eig_val_vec(t, mu, z, psi, n_max)\n",
    "    res = minimize_scalar(e_min)\n",
    "    return res.x\n",
    "\n",
    "\n",
    "\n",
    "# Set the maximum number of bosons in each site\n",
    "n_max = 10\n",
    "\n",
    "# Define the range of t/U values for the plot\n",
    "t_var = np.linspace(0, 0.05, 500)\n",
    "\n",
    "# Define the range of mu/U values for the plot\n",
    "mu_var = np.linspace(0, 3, 500)\n",
    "\n",
    "# Set the value of the lattice coordination number\n",
    "z = 6\n",
    "\n",
    "# Initialize an empty list to store the optimal values of psi\n",
    "psi_new = []\n",
    "\n",
    "# Loop over t/U values\n",
    "for t in tqdm(t_var):\n",
    "     # Loop over mu/U values\n",
    "    for mu in mu_var:\n",
    "#         print(t, mu)\n",
    "        # Find the optimal value of psi that minimizes the eigenvalue\n",
    "        psi_new.append(np.abs(find_psi(t, mu, z, n_max)))\n",
    " \n",
    "# Convert the list of psi values into a numpy array and reshape it for the plot\n",
    "psi_new = np.array(psi_new)\n",
    "psi_new = psi_new.reshape(len(t_var), len(mu_var))\n",
    "\n",
    "# Create a heatmap to visualize the optimal values of psi\n",
    "plt.imshow(psi_new.T, origin='lower', extent=(0, 0.05, 0, 3), aspect=\"auto\")\n",
    "plt.xlabel('t/U')\n",
    "plt.ylabel('$\\\\mu/U$')\n",
    "plt.axis('tight')\n",
    "plt.colorbar()\n",
    "plt.show()"
   ]
  },
  {
   "cell_type": "code",
   "execution_count": null,
   "metadata": {},
   "outputs": [],
   "source": []
  },
  {
   "cell_type": "code",
   "execution_count": 43,
   "metadata": {},
   "outputs": [],
   "source": []
  }
 ],
 "metadata": {
  "kernelspec": {
   "display_name": "Python 3 (ipykernel)",
   "language": "python",
   "name": "python3"
  },
  "language_info": {
   "codemirror_mode": {
    "name": "ipython",
    "version": 3
   },
   "file_extension": ".py",
   "mimetype": "text/x-python",
   "name": "python",
   "nbconvert_exporter": "python",
   "pygments_lexer": "ipython3",
   "version": "3.8.5"
  }
 },
 "nbformat": 4,
 "nbformat_minor": 4
}
